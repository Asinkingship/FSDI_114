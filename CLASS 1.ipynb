{
 "cells": [
  {
   "cell_type": "code",
   "execution_count": 2,
   "id": "aebb2da0-670d-4047-8440-61b32d912039",
   "metadata": {},
   "outputs": [
    {
     "name": "stdout",
     "output_type": "stream",
     "text": [
      "h\n",
      "e\n",
      "l\n",
      "l\n",
      "o\n",
      " \n",
      "w\n",
      "o\n",
      "r\n",
      "l\n",
      "d\n"
     ]
    }
   ],
   "source": [
    "for char in \"hello world\":\n",
    "    print (char)\n"
   ]
  },
  {
   "cell_type": "markdown",
   "id": "4092deaf-282a-4b0a-bac6-55c4826365e3",
   "metadata": {},
   "source": [
    "#Problem 1\n",
    "\n",
    "## Anagram Check\n",
    "\n",
    "Given two strings as parameters, define a function (anagram_check) that returns True uf tgese are anagrams of each other,\n",
    "False otherwise\n",
    "\n",
    "## Criteria\n",
    "Two strings are anagrams of each other if *all* the criteria below are met:\n",
    "1. They must be of equal length (in number of letters).\n",
    "2. They must use the same letters the same amout of times.\n",
    "\n",
    "## Examples\n",
    "\n",
    "heart and earth\n",
    "cars and scar\n",
    "star and rats\n"
   ]
  },
  {
   "cell_type": "code",
   "execution_count": null,
   "id": "a55c96df-9897-4200-bf6e-1a97a3e4941a",
   "metadata": {},
   "outputs": [],
   "source": [
    "# In the popular Harry Potter saga the villains name \"Voldemort\" is chosen because it is an anagram of his original human\n",
    "# name. This is based on the phrases \"I am lord Voldemort\" ond \"tom marvolo riddle\""
   ]
  },
  {
   "cell_type": "code",
   "execution_count": 4,
   "id": "209f5f11-ceaa-40b2-9e1c-cb12efe52e4a",
   "metadata": {},
   "outputs": [],
   "source": [
    "# a poor solution\n",
    "def anagram_check(string1, string2):\n",
    "    return sorted(string1) == sorted(string2)"
   ]
  },
  {
   "cell_type": "code",
   "execution_count": 5,
   "id": "61e23792-84b7-409f-9630-46123ce2bd67",
   "metadata": {},
   "outputs": [
    {
     "data": {
      "text/plain": [
       "False"
      ]
     },
     "execution_count": 5,
     "metadata": {},
     "output_type": "execute_result"
    }
   ],
   "source": [
    "anagram_check(\"I am Lord Voldemort\" , \"Tom Marvolo Riddle\")"
   ]
  },
  {
   "cell_type": "code",
   "execution_count": 9,
   "id": "41456b07-ab61-4f4a-aa4d-976fdfecdecd",
   "metadata": {},
   "outputs": [],
   "source": [
    "# define my function \"anagram_check\" which receives string1 of type string and string2 of type string:\n",
    "#     string1 = string1 without spaces\n",
    "#     string2 = string2 without spaces\n",
    "#     string1 = string1 in lower case\n",
    "#     string2 = string2 in lower case\n",
    "#     if the length of string1 and the length of string2 are not equal:\n",
    "#            return False\n",
    "#     dicti_a = new Dictionary\n",
    "#     dicti_b = new Dictionary\n",
    "#     for number in the range between 0 and the length of string1:\n",
    "#          if the character at position \"number\" in string1 is in dicti_a:\n",
    "#              add 1 to the value associated with that character\n",
    "#          otherwise:\n",
    "#              create a new key in dicti_a for the character with its value set to 1\n",
    "#          if the character at position \"number\" in string1 is in dicti_a:\n",
    "#              add 1 to the value associated with that character\n",
    "#          otherwise:\n",
    "#              create a new key in dicti_b for the character with its value set to 1\n",
    "#       if dicti_a is equal to dicti_b:\n",
    "#          return True\n",
    "#       otherwise:\n",
    "#          return False"
   ]
  },
  {
   "cell_type": "code",
   "execution_count": 10,
   "id": "a162a5e2-7102-425c-baf2-1a1324eb04c8",
   "metadata": {},
   "outputs": [],
   "source": [
    "def anagram_check(string1, string2):\n",
    "    string1 = string1.replace(\" \", \"\").lower()\n",
    "    string2 = string2.replace(\" \", \"\").lower()\n",
    "    if len(string1) != len(string2):\n",
    "        return False\n",
    "    dicti_a = {}\n",
    "    dicti_b = {}\n",
    "    for char in string1:\n",
    "        dicti_a[char] = dicti_a.get(char, 0) + 1\n",
    "    for char in string1:\n",
    "        dicti_b[char] = dicti_b.get(char, 0) + 1\n",
    "    return dicti_a == dicti_b\n",
    "    \n",
    "\n",
    "    "
   ]
  },
  {
   "cell_type": "code",
   "execution_count": 13,
   "id": "daba09e9-f415-4c58-a66e-37cf336f5c9d",
   "metadata": {},
   "outputs": [
    {
     "data": {
      "text/plain": [
       "True"
      ]
     },
     "execution_count": 13,
     "metadata": {},
     "output_type": "execute_result"
    }
   ],
   "source": [
    "anagram_check(\"heart\", \"earth\")\n"
   ]
  },
  {
   "cell_type": "code",
   "execution_count": 12,
   "id": "29b5770f-ee45-49ce-95af-e6537f2fb8dd",
   "metadata": {},
   "outputs": [
    {
     "data": {
      "text/plain": [
       "True"
      ]
     },
     "execution_count": 12,
     "metadata": {},
     "output_type": "execute_result"
    }
   ],
   "source": [
    "anagram_check(\"I am Lord Voldemort\", \"Tom Marvolo Riddle\")\n"
   ]
  },
  {
   "cell_type": "code",
   "execution_count": null,
   "id": "d0d22b92-f7d8-43ff-9ca7-4a66404ad3d0",
   "metadata": {},
   "outputs": [],
   "source": []
  }
 ],
 "metadata": {
  "kernelspec": {
   "display_name": "Python 3 (ipykernel)",
   "language": "python",
   "name": "python3"
  },
  "language_info": {
   "codemirror_mode": {
    "name": "ipython",
    "version": 3
   },
   "file_extension": ".py",
   "mimetype": "text/x-python",
   "name": "python",
   "nbconvert_exporter": "python",
   "pygments_lexer": "ipython3",
   "version": "3.10.12"
  }
 },
 "nbformat": 4,
 "nbformat_minor": 5
}
