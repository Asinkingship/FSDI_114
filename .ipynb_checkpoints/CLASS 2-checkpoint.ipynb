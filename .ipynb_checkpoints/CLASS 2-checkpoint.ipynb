{
 "cells": [
  {
   "cell_type": "markdown",
   "id": "f4e6944f-c0fc-4b58-a051-92f79d1860ef",
   "metadata": {},
   "source": [
    "# Stacks\n"
   ]
  },
  {
   "cell_type": "code",
   "execution_count": 1,
   "id": "904eea5d-14bf-4b42-a230-12a8554916f3",
   "metadata": {},
   "outputs": [],
   "source": [
    "# simplified implementation of stack (relying on built-ins)\n",
    "\n",
    "class Stack:\n",
    "    def __init__(self):\n",
    "        self.items = []\n",
    "\n",
    "    def push(self, elements):\n",
    "        self.items.append(elements)\n",
    "\n",
    "    def pop(self):\n",
    "        return self.items.pop()\n",
    "\n",
    "    #nice to have methods\n",
    "    def peek(self):\n",
    "        return self.items[len(self.items)-1]\n",
    "\n",
    "    def size(self):\n",
    "        return len(self.items)\n",
    "\n",
    "    def is_empty(self):\n",
    "        return self.items ==[]"
   ]
  },
  {
   "cell_type": "markdown",
   "id": "67431fdd-65d6-4399-9c78-e5e67e4c0a9e",
   "metadata": {},
   "source": [
    "# Problem 1\n",
    "\n",
    "## Inverting strings\n",
    "Create a function that *must* use the `Stack` class above to invert a string\n",
    "\n",
    "\n",
    "In general, your function's flow should follow these steps:\n",
    "\n",
    "0. Your function should receive a string as a parameter\n",
    "1. Creater an instance of `Stack`\n",
    "2. Push all the elements in the string onto your stack (via looping and calling the push method)\n",
    "3. Create an empty string\n",
    "4. Loop until the stack is empty, calling pop on your instance of `Stack` and feeding the popped element to your output string\n",
    "5. Return the output string once the stack is empty ( hint: conside the `is_empty` method).\n",
    "\n",
    "## Examples\n",
    "```\n",
    "rafael -> leafar\n",
    "cars -> srac\n",
    "hello -> olleh\n",
    "```"
   ]
  },
  {
   "cell_type": "code",
   "execution_count": 9,
   "id": "d676b617-a6c3-43ec-87e8-88f0795a4250",
   "metadata": {},
   "outputs": [],
   "source": [
    "# Def the __init__ item\n",
    "# push the item to the stack\n",
    "# get the size of the item\n",
    "# pull the last item of the stack\n",
    "# pop the item out\n",
    "# return the output once the stack is empty\n",
    "\n",
    "\n",
    "# Def a function that takes a string and inverts it\n",
    "# Get the input\n",
    "# Add the input to the stack\n",
    "# Invert the input\n",
    "# Return the inverted input???\n",
    "# Check if stack is empty\n",
    "# If empty return output????\n",
    "\n",
    "def invert_str(string):\n",
    "    stack = Stack()\n",
    "    \n",
    "    for char in string:\n",
    "        stack.push(char) \n",
    "\n",
    "    out = \"\"\n",
    "\n",
    "    while not stack.is_empty():\n",
    "        out += stack.pop()\n",
    "    return out\n",
    "\n",
    "    \n",
    "    \n",
    "\n"
   ]
  },
  {
   "cell_type": "code",
   "execution_count": 8,
   "id": "31203800-e6c7-461c-a1ba-507d479227e4",
   "metadata": {},
   "outputs": [
    {
     "data": {
      "text/plain": [
       "'htaed'"
      ]
     },
     "execution_count": 8,
     "metadata": {},
     "output_type": "execute_result"
    }
   ],
   "source": [
    "invert_string(\"tobey\")\n",
    "invert_str(\"death\")"
   ]
  },
  {
   "cell_type": "code",
   "execution_count": 14,
   "id": "141b6fb5-508b-4a23-ad52-6b4915613655",
   "metadata": {},
   "outputs": [],
   "source": [
    "class StackII:\n",
    "    class __Node:\n",
    "        def __init__(self, data):\n",
    "            self.data = data\n",
    "            self.below = None\n",
    "    def __init(self):\n",
    "        self.top = None                   #when self.top is None this means the Stack is empty\n",
    "\n",
    "    def push(self, value):\n",
    "        new_node = self.__Node(value)\n",
    "        if not self.top:\n",
    "            self.top = new_node\n",
    "        else:\n",
    "            old_top = self.top\n",
    "            new_node.below = old_top\n",
    "            self.top = new_node\n",
    "\n",
    "    def pop(self):\n",
    "        if self.top:\n",
    "            datum = self.top.data\n",
    "            self.top = self.top.below\n",
    "            return datum\n",
    "        raise IndexError(\"Stack is empty\")\n",
    "\n",
    "    #Nice to have methods(boilerplates)\n",
    "    def peek(self):         #(this is easy can be done in as little one line of code)\n",
    "        pass                #(the peek operation shows you the data point on the topmost node, withoit removing it from the stack\n",
    "\n",
    "    def size(self):         # this one is more challenging\n",
    "        pass                # This method counts the number of nodes in our stack.\n",
    "\n",
    "    def is_empty(self):     # this is easy (can be done in as little os 1 line of code)\n",
    "        pass                # returns True when the stack is empty\n",
    "    "
   ]
  },
  {
   "cell_type": "code",
   "execution_count": 15,
   "id": "f4414658-4ca4-42fc-9b6d-188e06a9c0c6",
   "metadata": {},
   "outputs": [],
   "source": [
    "# Simplified implementation of queue (relying on buit-ins)\n",
    "\n",
    "class Queue:\n",
    "    def __init__(self):\n",
    "        self.items = []\n",
    "\n",
    "    def enqueue(self, value):\n",
    "        self.items.insert(0, value)\n",
    "\n",
    "    def dequeue(self):\n",
    "        return self.item.pop()\n",
    "\n",
    "         #Nice to have methods\n",
    "\n",
    "    def peek(self):\n",
    "        return self.items[len(self.items)-1]\n",
    "\n",
    "    def size(self):\n",
    "        return len(self.items)\n",
    "\n",
    "    def is_empty(self):\n",
    "        return self.items == []"
   ]
  },
  {
   "cell_type": "markdown",
   "id": "5fb7914e-271c-4ab4-b0bd-0e0c0cfe102f",
   "metadata": {},
   "source": [
    "# Problem 2\n",
    "\n",
    "## From scratch implementation of Queue\n",
    "Generate a class called QueueII which does not rely on built-ins yet represents the operations required to qualify as a queue\n",
    "(considering the ordering principle wwhich is FIFO -- first in first out.\n",
    "\n",
    "## Acceptance criteria\n",
    "1. you must have an enqueue method, which adds new elements to the back or rear of the queue\n",
    "2. you must have a dequeue method, which removes and returns elements from the front of the queue\n",
    "\n",
    "## Bonus\n",
    "Implement all the \"nice to have\" methods on QueueII and validate them by testing manually"
   ]
  },
  {
   "cell_type": "code",
   "execution_count": 16,
   "id": "0ac7f5e2-81ba-467c-9126-dbf7505ce4b6",
   "metadata": {},
   "outputs": [],
   "source": [
    "\n",
    "class QueueII:\n",
    "    class __Node:\n",
    "        def __init__(self, data):\n",
    "            self.data = data\n",
    "            self.next = None\n",
    "\n",
    "    def __init__(self):\n",
    "        self.rear = None\n",
    "        self.front = None\n",
    "\n",
    "    def enqueue(self, data):\n",
    "        new_node = self.__Node\n",
    "        if not self.rear:\n",
    "        \n",
    "\n",
    "    def dequeue(self):\n",
    "        pass"
   ]
  },
  {
   "cell_type": "code",
   "execution_count": null,
   "id": "7594cc85-0d36-4a65-9016-3c0daa13b9ff",
   "metadata": {},
   "outputs": [],
   "source": []
  }
 ],
 "metadata": {
  "kernelspec": {
   "display_name": "Python 3 (ipykernel)",
   "language": "python",
   "name": "python3"
  },
  "language_info": {
   "codemirror_mode": {
    "name": "ipython",
    "version": 3
   },
   "file_extension": ".py",
   "mimetype": "text/x-python",
   "name": "python",
   "nbconvert_exporter": "python",
   "pygments_lexer": "ipython3",
   "version": "3.10.12"
  }
 },
 "nbformat": 4,
 "nbformat_minor": 5
}
